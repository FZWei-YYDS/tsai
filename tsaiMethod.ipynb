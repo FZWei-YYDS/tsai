{
 "cells": [
  {
   "cell_type": "code",
   "execution_count": 1,
   "metadata": {},
   "outputs": [],
   "source": [
    "import utils\n",
    "import numpy as np"
   ]
  },
  {
   "cell_type": "code",
   "execution_count": 2,
   "metadata": {},
   "outputs": [],
   "source": [
    "points2D = utils.read_points_2d('data/pts2d-pic_a.txt')\n",
    "points3D = utils.read_points_3d('data/pts3d.txt')"
   ]
  },
  {
   "cell_type": "code",
   "execution_count": 3,
   "metadata": {},
   "outputs": [],
   "source": [
    "img = utils.load_image('data/pic_a.jpg')\n",
    "h = img.shape[0]\n",
    "w = img.shape[1]"
   ]
  },
  {
   "cell_type": "code",
   "execution_count": 4,
   "metadata": {},
   "outputs": [
    {
     "data": {
      "text/plain": [
       "array([[880., 214.],\n",
       "       [ 43., 203.],\n",
       "       [270., 197.],\n",
       "       [886., 347.],\n",
       "       [745., 302.],\n",
       "       [943., 128.],\n",
       "       [476., 590.],\n",
       "       [419., 214.],\n",
       "       [317., 335.],\n",
       "       [783., 521.],\n",
       "       [235., 427.],\n",
       "       [665., 429.],\n",
       "       [655., 362.],\n",
       "       [427., 333.],\n",
       "       [412., 415.],\n",
       "       [746., 351.],\n",
       "       [434., 415.],\n",
       "       [525., 234.],\n",
       "       [716., 308.],\n",
       "       [602., 187.]])"
      ]
     },
     "execution_count": 4,
     "metadata": {},
     "output_type": "execute_result"
    }
   ],
   "source": [
    "points2D"
   ]
  },
  {
   "cell_type": "code",
   "execution_count": 5,
   "metadata": {},
   "outputs": [
    {
     "data": {
      "text/plain": [
       "array([[312.747, 309.14 ,  30.086],\n",
       "       [305.796, 311.649,  30.356],\n",
       "       [307.694, 312.358,  30.418],\n",
       "       [310.149, 307.186,  29.298],\n",
       "       [311.937, 310.105,  29.216],\n",
       "       [311.202, 307.572,  30.682],\n",
       "       [307.106, 306.876,  28.66 ],\n",
       "       [309.317, 312.49 ,  30.23 ],\n",
       "       [307.435, 310.151,  29.318],\n",
       "       [308.253, 306.3  ,  28.881],\n",
       "       [306.65 , 309.301,  28.905],\n",
       "       [308.069, 306.831,  29.189],\n",
       "       [309.671, 308.834,  29.029],\n",
       "       [308.255, 309.955,  29.267],\n",
       "       [307.546, 308.613,  28.963],\n",
       "       [311.036, 309.206,  28.913],\n",
       "       [307.518, 308.175,  29.069],\n",
       "       [309.95 , 311.262,  29.99 ],\n",
       "       [312.16 , 310.772,  29.08 ],\n",
       "       [311.988, 312.709,  30.514]])"
      ]
     },
     "execution_count": 5,
     "metadata": {},
     "output_type": "execute_result"
    }
   ],
   "source": [
    "points3D"
   ]
  },
  {
   "cell_type": "markdown",
   "metadata": {},
   "source": [
    "$ x_i = x_{im} - o_x $\n",
    "\n",
    "\n",
    "$ y_i = y_{im} - o_y $\n",
    "\n",
    "\n",
    "Assuming insignificant radial distortion\n",
    "\n",
    "\n",
    "$ x_i = f_x\\frac{r_{11}X^w_i + r_{12}Y^w_i + r_{13}Z^w_i + T_x}{r_{31}X^w_i + r_{32}Y^w_i + r_{33}Z^w_i + T_z} $\n",
    "\n",
    "\n",
    "$ y_i = f_y\\frac{r_{21}X^w_i + r_{22}Y^w_i + r_{23}Z^w_i + T_y}{r_{31}X^w_i + r_{32}Y^w_i + r_{33}Z^w_i + T_z} $\n",
    "\n",
    "$ \\alpha = \\frac{f_x}{f_y} = \\frac{fs_y}{s_xf} = \\frac{s_y}{s_x} $\n",
    "\n",
    "$ x_ir_{21}X^w_i + x_ir_{22}Y^w_i + x_ir_{23}Z^w_i + x_iT_y =  y_iX^w_i\\alpha r_{11} + y_iY^w_i\\alpha r_{12} + y_iZ^w_i\\alpha r_{13} + y_i\\alpha T_x $\n",
    "\n",
    "\n",
    "\n",
    "$ v_1 = r_{21},\\quad v_2 = r_{22},\\quad v_3 = r_{23},\\quad v_4 = T_y $\n",
    "\n",
    "$v_5 = \\alpha r_{11},\\quad v_6 = \\alpha r_{12},\\quad v_7 = \\alpha r_{13},\\quad v_8 = \\alpha T_x$"
   ]
  },
  {
   "cell_type": "code",
   "execution_count": 6,
   "metadata": {},
   "outputs": [],
   "source": [
    "def compute_v(points2D, points3D, ox, oy):\n",
    "    assert points2D.shape[0] == points3D.shape[0]\n",
    "    \n",
    "    x = points2D[:, 0] - ox\n",
    "    y = points2D[:, 1] - oy\n",
    "    X = points3D[:, 0]    \n",
    "    Y = points3D[:, 1]        \n",
    "    Z = points3D[:, 2]\n",
    "    \n",
    "    xX = x*X\n",
    "    xY = x*Y \n",
    "    xZ = x*Z\n",
    "    yX = -y*X\n",
    "    yY = -y*Y\n",
    "    yZ = -y*Z\n",
    "    \n",
    "    A = np.column_stack((xX, xY, xZ, x, yX, yY, yZ, -y))\n",
    "    assert A.shape[0] == points2D.shape[0]\n",
    "    \n",
    "    U, D, V = np.linalg.svd(A)\n",
    "    \n",
    "    return V.T[:, -1]"
   ]
  },
  {
   "cell_type": "code",
   "execution_count": 7,
   "metadata": {},
   "outputs": [],
   "source": [
    "v = compute_v(points2D, points3D, w/2, h/2)"
   ]
  },
  {
   "cell_type": "markdown",
   "metadata": {},
   "source": [
    "$ |\\gamma| = \\sqrt{v^2_1 + v^2_2 + v^2_3} $\n",
    "\n",
    "\n",
    "$\\text{If}\\quad y_i(r_{21}X^i_w + r_{22}Y^i_w +r_{23}Z^i_w + T_y) < 0, \\quad\\text{change gamma's sign}$ "
   ]
  },
  {
   "cell_type": "code",
   "execution_count": 8,
   "metadata": {},
   "outputs": [],
   "source": [
    "def gamma_abs(v1, v2, v3):\n",
    "    return np.sqrt(v1*v1 + v2*v2 + v3*v3)\n",
    "\n",
    "def normalize_v(v, gamma, y, points3D, oy):\n",
    "    vnorm = v / gamma\n",
    "    Ty = vnorm[3]\n",
    "    sig = (y[0] - oy) * (vnorm[0]*points3D[0][0] + vnorm[1]*points3D[0][1] + vnorm[2]*points3D[0][2] + vnorm[3])\n",
    "    if sig > 0:\n",
    "        return -vnorm\n",
    "    return vnorm"
   ]
  },
  {
   "cell_type": "markdown",
   "metadata": {},
   "source": [
    "$ \\alpha = \\frac{1}{|\\gamma|}\\sqrt{v^2_5 + v^2_6 + v^2_7} $ "
   ]
  },
  {
   "cell_type": "code",
   "execution_count": 9,
   "metadata": {},
   "outputs": [],
   "source": [
    "def alpha(gamma, v5, v6, v7):\n",
    "    return np.sqrt(v5*v5 + v6*v6 + v7*v7) / gamma"
   ]
  },
  {
   "cell_type": "markdown",
   "metadata": {},
   "source": [
    "$ v_1 = r_{21},\\quad v_2 = r_{22},\\quad v_3 = r_{23},\\quad v_4 = T_y $\n",
    "\n",
    "$v_5 = \\alpha r_{11},\\quad v_6 = \\alpha r_{12},\\quad v_7 = \\alpha r_{13},\\quad v_8 = \\alpha T_x$"
   ]
  },
  {
   "cell_type": "code",
   "execution_count": 10,
   "metadata": {},
   "outputs": [],
   "source": [
    "gamma_value = gamma_abs(v[0], v[1], v[2])\n",
    "vnorm = normalize_v(v, gamma_value, points2D[:, 1], points3D, h/2)\n",
    "alpha_value = alpha(gamma_value, v[4], v[5], v[6])\n",
    "Tx = vnorm[7] / alpha_value\n",
    "Ty = vnorm[3]"
   ]
  },
  {
   "cell_type": "code",
   "execution_count": 11,
   "metadata": {},
   "outputs": [],
   "source": [
    "def compute_rotation(vnorm, alpha_value, ortho=False):\n",
    "    r1 = vnorm[4:7] / alpha_value\n",
    "    r2 = vnorm[0:3]\n",
    "    r3 = np.cross(r1, r2)\n",
    "    R = np.array([r1, r2, r3])\n",
    "    return R"
   ]
  },
  {
   "cell_type": "code",
   "execution_count": 12,
   "metadata": {},
   "outputs": [],
   "source": [
    "R = compute_rotation(vnorm, alpha_value)"
   ]
  },
  {
   "cell_type": "markdown",
   "metadata": {},
   "source": [
    "$ Ax = b \\quad A^TAx = A^Tb \\quad x = (A^TA)^{-1} A^T b  $"
   ]
  },
  {
   "cell_type": "code",
   "execution_count": 13,
   "metadata": {},
   "outputs": [],
   "source": [
    "def compute_tz_fx(points2D, points3D, R, Tx, ox):\n",
    "    x = points2D[:, 0] - ox\n",
    "    second_col = np.column_stack(\n",
    "        (points3D, Tx * np.ones(points3D.shape[0]))\n",
    "    ).dot(np.append(R[0, :], 1))\n",
    "    A = np.column_stack((-x, second_col))\n",
    "    b = x * points3D.dot(R[2, :])\n",
    "    x = np.linalg.inv(A.T.dot(A)).dot(A.T.dot(b))\n",
    "    return x[0], x[1]"
   ]
  },
  {
   "cell_type": "code",
   "execution_count": 14,
   "metadata": {},
   "outputs": [],
   "source": [
    "Tz, fx = compute_tz_fx(points2D, points3D, R, Tx, w/2)   "
   ]
  },
  {
   "cell_type": "markdown",
   "metadata": {},
   "source": [
    "$ \\alpha = \\frac{f_x}{f_y} = \\frac{fs_y}{s_xf} = \\frac{s_y}{s_x} $"
   ]
  },
  {
   "cell_type": "code",
   "execution_count": 15,
   "metadata": {},
   "outputs": [],
   "source": [
    "fy = fx / alpha_value"
   ]
  },
  {
   "cell_type": "code",
   "execution_count": 17,
   "metadata": {},
   "outputs": [],
   "source": [
    "def compute_KRT(R, Tx, Ty, Tz, fx, fy, ox, oy):\n",
    "    RT = np.column_stack((R, np.array([Tx, Ty, Tz])))\n",
    "    K = np.array([[fx, 0, ox], [0, fy, oy], [0, 0, 1]])\n",
    "    return np.dot(K, RT)"
   ]
  },
  {
   "cell_type": "code",
   "execution_count": 18,
   "metadata": {},
   "outputs": [],
   "source": [
    "KRT = compute_KRT(R, Tx, Ty, Tz, fx, fy, w/2, h/2)"
   ]
  },
  {
   "cell_type": "code",
   "execution_count": 19,
   "metadata": {},
   "outputs": [],
   "source": [
    "def project(M, points_3d):\n",
    "    n = len(points_3d)\n",
    "    points_3d = np.concatenate((np.array(points_3d), np.ones((n, 1))), axis=1)\n",
    "    points_3d_projected = np.dot(M, points_3d.T).T\n",
    "    u, v = points_3d_projected[:, 0] / points_3d_projected[:, 2], points_3d_projected[:, 1] / points_3d_projected[:, 2]\n",
    "    points_2d = np.hstack((u[:, np.newaxis], v[:, np.newaxis]))\n",
    "    \n",
    "    return points_2d"
   ]
  },
  {
   "cell_type": "code",
   "execution_count": 20,
   "metadata": {},
   "outputs": [],
   "source": [
    "projected_points2D = project(KRT, points3D)"
   ]
  },
  {
   "cell_type": "code",
   "execution_count": 21,
   "metadata": {},
   "outputs": [
    {
     "data": {
      "image/png": "[encoded data removed]",
      "text/plain": [
       "<Figure size 432x288 with 1 Axes>"
      ]
     },
     "metadata": {
      "needs_background": "light"
     },
     "output_type": "display_data"
    }
   ],
   "source": [
    "utils.visualize_points(points2D, projected_points2D)"
   ]
  }
 ],
 "metadata": {
  "kernelspec": {
   "display_name": "mlProjects",
   "language": "python",
   "name": "mlprojects"
  },
  "language_info": {
   "codemirror_mode": {
    "name": "ipython",
    "version": 3
   },
   "file_extension": ".py",
   "mimetype": "text/x-python",
   "name": "python",
   "nbconvert_exporter": "python",
   "pygments_lexer": "ipython3",
   "version": "3.7.3"
  }
 },
 "nbformat": 4,
 "nbformat_minor": 2
}
